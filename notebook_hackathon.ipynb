{
 "cells": [
  {
   "cell_type": "code",
   "execution_count": 1,
   "metadata": {},
   "outputs": [],
   "source": [
    "import pandas as pd\n",
    "import matplotlib.pyplot as plt\n",
    "import numpy as np\n",
    "# Read the flights data\n",
    "flights = pd.read_csv('data/flights.csv')"
   ]
  },
  {
   "cell_type": "code",
   "execution_count": null,
   "metadata": {},
   "outputs": [],
   "source": [
    "#Checking what we have\n",
    "flights.head()"
   ]
  },
  {
   "cell_type": "code",
   "execution_count": 3,
   "metadata": {},
   "outputs": [],
   "source": [
    "# Convert individual date components to datetime\n",
    "flights['DateTime'] = pd.to_datetime(\n",
    "    {\n",
    "        'year': flights['Year'],\n",
    "        'month': flights['Month'],\n",
    "        'day': flights['DayofMonth']\n",
    "    }\n",
    ")\n",
    "\n",
    "# Format the datetime to MM-DD-YYYY\n",
    "#flights['DateTime'] = flights['DateTime'].dt.strftime('%m-%d-%Y')\n",
    "flights['DateTime'] = flights['DateTime'].dt.strftime('%Y-%m-%d')"
   ]
  },
  {
   "cell_type": "code",
   "execution_count": null,
   "metadata": {},
   "outputs": [],
   "source": [
    "# Get list of columns in flights\n",
    "columns = flights.columns.tolist()\n",
    "print(columns)"
   ]
  },
  {
   "cell_type": "markdown",
   "metadata": {},
   "source": []
  },
  {
   "cell_type": "code",
   "execution_count": null,
   "metadata": {},
   "outputs": [],
   "source": [
    "#checking again for some reason i cant recall\n",
    "flights.head()"
   ]
  },
  {
   "cell_type": "code",
   "execution_count": 6,
   "metadata": {},
   "outputs": [],
   "source": [
    "from sklearn.preprocessing import LabelEncoder\n",
    "\n",
    "# Create a label encoder and encode Carrier\n",
    "\n",
    "# Create and fit label encoder for Carrier\n",
    "carrier_encoder = LabelEncoder()\n",
    "flights['Carrier_Encoded'] = carrier_encoder.fit_transform(flights['Carrier'])\n"
   ]
  },
  {
   "cell_type": "code",
   "execution_count": null,
   "metadata": {},
   "outputs": [],
   "source": [
    "flights.head()"
   ]
  },
  {
   "cell_type": "code",
   "execution_count": null,
   "metadata": {},
   "outputs": [],
   "source": [
    "# Check for missing values\n",
    "print(\"Missing values in each column:\")\n",
    "print(flights.isnull().sum())\n",
    "print(\"\\nTotal missing values:\", flights.isnull().sum().sum())\n",
    "\n",
    "# Check for duplicates\n",
    "print(\"\\nDuplicate rows:\", flights.duplicated().sum())"
   ]
  },
  {
   "cell_type": "code",
   "execution_count": 9,
   "metadata": {},
   "outputs": [],
   "source": [
    "flights['DepDel15'] = flights['DepDel15'].fillna(0)"
   ]
  },
  {
   "cell_type": "code",
   "execution_count": null,
   "metadata": {},
   "outputs": [],
   "source": [
    "# Check for missing values\n",
    "print(\"Missing values in each column:\")\n",
    "print(flights.isnull().sum())\n",
    "print(\"\\nTotal missing values:\", flights.isnull().sum().sum())"
   ]
  },
  {
   "cell_type": "code",
   "execution_count": 11,
   "metadata": {},
   "outputs": [],
   "source": [
    "# Calculate 90th percentile for DepDelay\n",
    "percentile_90 = flights['DepDelay'].quantile(0.90)\n",
    "\n",
    "# Remove rows where DepDelay is higher than 90th percentile\n",
    "flights = flights[flights['DepDelay'] <= percentile_90]"
   ]
  },
  {
   "cell_type": "code",
   "execution_count": 12,
   "metadata": {},
   "outputs": [],
   "source": [
    "#Dont need them in the model\n",
    "flights = flights.drop(['OriginAirportName', 'DestAirportName'], axis=1)"
   ]
  },
  {
   "cell_type": "code",
   "execution_count": null,
   "metadata": {},
   "outputs": [],
   "source": [
    "flights.shape"
   ]
  },
  {
   "cell_type": "code",
   "execution_count": null,
   "metadata": {},
   "outputs": [],
   "source": [
    "from sklearn.model_selection import train_test_split\n",
    "from sklearn.linear_model import LogisticRegression\n",
    "from sklearn.preprocessing import StandardScaler\n",
    "\n",
    "# Select features and target\n",
    "X = flights[['Carrier_Encoded','DayofMonth','DayOfWeek','Month','DestAirportID','OriginAirportID']]\n",
    "#airport id\n",
    "#YEAR-MONTH-DAY\n",
    "\n",
    "y = flights['ArrDel15']\n",
    "\n",
    "# Split the data\n",
    "X_train, X_test, y_train, y_test = train_test_split(X, y, test_size=0.2, random_state=42)\n",
    "\n",
    "# Scale the features\n",
    "scaler = StandardScaler()\n",
    "X_train_scaled = scaler.fit_transform(X_train)\n",
    "X_test_scaled = scaler.transform(X_test)\n",
    "\n",
    "# Create and train the model\n",
    "model = LogisticRegression(random_state=42)\n",
    "model.fit(X_train_scaled, y_train)\n",
    "\n",
    "# Print model accuracy\n",
    "print(f\"Training accuracy: {model.score(X_train_scaled, y_train):.5f}\")\n",
    "print(f\"Testing accuracy: {model.score(X_test_scaled, y_test):.5f}\")"
   ]
  },
  {
   "cell_type": "code",
   "execution_count": null,
   "metadata": {},
   "outputs": [],
   "source": [
    "# Get predictions probabilities for all test cases\n",
    "y_test_probs = model.predict_proba(X_test_scaled)\n",
    "\n",
    "# Pick a random index from test set\n",
    "random_idx = np.random.randint(len(X_test))\n",
    "\n",
    "print(len(X_test))\n",
    "\n",
    "# Get the probabilities for that sample\n",
    "sample_prob = y_test_probs[random_idx]\n",
    "print(sample_prob)\n",
    "# Get the actual test case details\n",
    "test_case = X_test.iloc[random_idx]\n",
    "\n",
    "print(\"Flight Details:\")\n",
    "print(\"--------------\")\n",
    "print(f\"Carrier (encoded): {test_case['Carrier_Encoded']}\")\n",
    "print(f\"Day of Month: {test_case['DayofMonth']}\")\n",
    "print(f\"Day of Week: {test_case['DayOfWeek']}\")\n",
    "print(f\"Month: {test_case['Month']}\")\n",
    "print(f\"Origin Airport ID: {test_case['OriginAirportID']}\")\n",
    "print(f\"Destination Airport ID: {test_case['DestAirportID']}\")\n",
    "print(\"\\nPrediction Probabilities:\")\n",
    "print(\"-----------------------\")\n",
    "print(f\"Probability of On-Time: {sample_prob[0]:.2%}\")\n",
    "print(f\"Probability of Delay: {sample_prob[1]:.2%}\")\n",
    "print(f\"\\nActual Outcome: {'Delayed' if y_test.iloc[random_idx] == 1 else 'On-Time'}\")"
   ]
  },
  {
   "cell_type": "code",
   "execution_count": 16,
   "metadata": {},
   "outputs": [],
   "source": [
    "import pickle\n",
    "\n",
    "# Save the model to a file\n",
    "with open('fd_model_logistric_regression.pkl', 'wb') as file:\n",
    "    pickle.dump(model, file)\n",
    "\n",
    "# Also save the scaler since we'll need it for future predictions\n",
    "with open('fd_model_logistric_regression_scaler.pkl', 'wb') as file:\n",
    "    pickle.dump(scaler, file)"
   ]
  },
  {
   "cell_type": "code",
   "execution_count": null,
   "metadata": {},
   "outputs": [],
   "source": [
    "# Create a pie chart of average prediction probabilities\n",
    "avg_probs = y_test_probs[random_idx]\n",
    "\n",
    "print(avg_probs)\n",
    "plt.figure(figsize=(8, 8))\n",
    "plt.pie(avg_probs, labels=['On-Time', 'Delayed'], autopct='%1.1f%%')\n",
    "plt.title('Average Probability Distribution of Flight Delays')\n",
    "plt.show()"
   ]
  },
  {
   "cell_type": "code",
   "execution_count": null,
   "metadata": {},
   "outputs": [],
   "source": [
    "import matplotlib.pyplot as plt\n",
    "import seaborn as sns\n",
    "\n",
    "# 1. Bar plot of delay frequency by airport\n",
    "plt.figure(figsize=(12, 6))\n",
    "sns.countplot(data=flights, x='DestAirportID', hue='ArrDel15')\n",
    "plt.title('Delay Frequency by Airport')\n",
    "plt.xticks(rotation=45)\n",
    "plt.show()\n",
    "\n",
    "# 2. Time series of delays\n",
    "plt.figure(figsize=(15, 6))\n",
    "flights['Date'] = pd.to_datetime(flights['DateTime']).dt.date\n",
    "daily_delays = flights.groupby('Date')['ArrDel15'].mean()\n",
    "plt.plot(daily_delays.index, daily_delays.values)\n",
    "plt.title('Daily Delay Rate Over Time')\n",
    "plt.xlabel('Date')\n",
    "plt.ylabel('Delay Rate')\n",
    "plt.show()\n",
    "\n",
    "# 3. Heatmap of delays by hour and day\n",
    "plt.figure(figsize=(10, 6))\n",
    "flights['Hour'] = pd.to_datetime(flights['DateTime']).dt.hour\n",
    "flights['DayOfWeek'] = pd.to_datetime(flights['DateTime']).dt.dayofweek\n",
    "delay_pivot = flights.pivot_table(\n",
    "    values='ArrDel15', \n",
    "    index='Hour',\n",
    "    columns='DayOfWeek',\n",
    "    aggfunc='mean'\n",
    ")\n",
    "sns.heatmap(delay_pivot, cmap='YlOrRd')\n",
    "plt.title('Delay Probability by Hour and Day of Week')\n",
    "plt.show()"
   ]
  },
  {
   "cell_type": "markdown",
   "metadata": {},
   "source": [
    "## Now with Neural Networks"
   ]
  },
  {
   "cell_type": "code",
   "execution_count": null,
   "metadata": {},
   "outputs": [],
   "source": [
    "import torch\n",
    "from torch.utils.data import Dataset, DataLoader\n",
    "\n",
    "import torch.nn as nn\n",
    "\n",
    "# Custom dataset class\n",
    "class FlightDataset(Dataset):\n",
    "    def __init__(self, X, y):\n",
    "        self.X = torch.FloatTensor(X)\n",
    "        self.y = torch.FloatTensor(y.values)\n",
    "        \n",
    "    def __len__(self):\n",
    "        return len(self.X)\n",
    "    \n",
    "    def __getitem__(self, idx):\n",
    "        return self.X[idx], self.y[idx]\n",
    "\n",
    "# Define the neural network\n",
    "class FlightNet(nn.Module):\n",
    "    def __init__(self, input_size):\n",
    "        super(FlightNet, self).__init__()\n",
    "        self.layers = nn.Sequential(\n",
    "            nn.Linear(input_size, 64),\n",
    "            nn.ReLU(),\n",
    "            nn.Dropout(0.2),\n",
    "            nn.Linear(64, 32),\n",
    "            nn.ReLU(),\n",
    "            nn.Dropout(0.2),\n",
    "            nn.Linear(32, 16),\n",
    "            nn.ReLU(),\n",
    "            nn.Linear(16, 1),\n",
    "            nn.Sigmoid()\n",
    "        )\n",
    "        \n",
    "    def forward(self, x):\n",
    "        return self.layers(x)\n",
    "\n",
    "# Create datasets\n",
    "train_dataset = FlightDataset(X_train_scaled, y_train)\n",
    "test_dataset = FlightDataset(X_test_scaled, y_test)\n",
    "\n",
    "# Create dataloaders\n",
    "train_loader = DataLoader(train_dataset, batch_size=32, shuffle=True)\n",
    "test_loader = DataLoader(test_dataset, batch_size=32)\n",
    "\n",
    "# Initialize model, loss and optimizer\n",
    "model = FlightNet(X_train.shape[1])\n",
    "criterion = nn.BCELoss()\n",
    "optimizer = torch.optim.Adam(model.parameters(), lr=0.001)\n",
    "\n",
    "# Training loop\n",
    "num_epochs = 10\n",
    "for epoch in range(num_epochs):\n",
    "    model.train()\n",
    "    running_loss = 0.0\n",
    "    for inputs, labels in train_loader:\n",
    "        optimizer.zero_grad()\n",
    "        outputs = model(inputs)\n",
    "        loss = criterion(outputs, labels.unsqueeze(1))\n",
    "        loss.backward()\n",
    "        optimizer.step()\n",
    "        running_loss += loss.item()\n",
    "        \n",
    "    # Print epoch statistics\n",
    "    print(f'Epoch [{epoch+1}/{num_epochs}], Loss: {running_loss/len(train_loader):.4f}')\n",
    "\n",
    "# Evaluation\n",
    "model.eval()\n",
    "with torch.no_grad():\n",
    "    correct = 0\n",
    "    total = 0\n",
    "    for inputs, labels in test_loader:\n",
    "        outputs = model(inputs)\n",
    "        predicted = (outputs > 0.5).float()\n",
    "        total += labels.size(0)\n",
    "        correct += (predicted.squeeze() == labels).sum().item()\n",
    "    \n",
    "    print(f'Test Accuracy: {100 * correct / total:.2f}%')"
   ]
  },
  {
   "cell_type": "code",
   "execution_count": null,
   "metadata": {},
   "outputs": [],
   "source": [
    "# Save the PyTorch model\n",
    "torch.save(model.state_dict(), 'fd_model_neural_network.pt')\n"
   ]
  }
 ],
 "metadata": {
  "kernelspec": {
   "display_name": ".venv",
   "language": "python",
   "name": "python3"
  },
  "language_info": {
   "codemirror_mode": {
    "name": "ipython",
    "version": 3
   },
   "file_extension": ".py",
   "mimetype": "text/x-python",
   "name": "python",
   "nbconvert_exporter": "python",
   "pygments_lexer": "ipython3",
   "version": "3.9.6"
  }
 },
 "nbformat": 4,
 "nbformat_minor": 2
}
